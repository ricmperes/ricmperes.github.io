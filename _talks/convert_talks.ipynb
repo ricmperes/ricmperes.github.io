{
 "cells": [
  {
   "cell_type": "code",
   "execution_count": 1,
   "id": "e81ee289",
   "metadata": {},
   "outputs": [],
   "source": [
    "with open('from_cv.txt', 'r') as F:\n",
    "    fs = F.readlines()"
   ]
  },
  {
   "cell_type": "code",
   "execution_count": 30,
   "id": "6ecae147",
   "metadata": {},
   "outputs": [],
   "source": [
    "talks = {}\n",
    "\n",
    "for i, line in enumerate(fs):\n",
    "    if len(fs[i]) == 1:\n",
    "        continue\n",
    "    line = fs[i].strip().strip('\\\\').replace('}','').split('{')\n",
    "    date = line[1]\n",
    "    title = line[2]\n",
    "    venue = line[3]\n",
    "    place = line[4]\n",
    "    talk_type = line[5]\n",
    "    comment = line[6]\n",
    "    \n",
    "    talks[i] = {'date': date,\n",
    "               'title': title,\n",
    "               'venue': venue,\n",
    "               'place':place,\n",
    "               'talk_type': talk_type,\n",
    "               'comment': comment}"
   ]
  },
  {
   "cell_type": "code",
   "execution_count": 38,
   "id": "a02fe166",
   "metadata": {},
   "outputs": [],
   "source": [
    "def get_md_talk(talk_dict, i):\n",
    "    main_str = f\"\"\"---\n",
    "title: \"{talk_dict['title']}\"\n",
    "collection: talks\n",
    "type: \"{talk_dict['talk_type']}\"\n",
    "permalink: /talks/talk_{i}\n",
    "venue: \"{talk_dict['venue']}\"\n",
    "date: \"{talk_dict['date']}\"\n",
    "location: \"{talk_dict['place']}\"\n",
    "---\n",
    "\n",
    "{talk_dict['comment']}\n",
    "\"\"\"\n",
    "    return main_str"
   ]
  },
  {
   "cell_type": "code",
   "execution_count": 39,
   "id": "2c75afb6",
   "metadata": {},
   "outputs": [],
   "source": [
    "for i, talk_id in enumerate(talks):\n",
    "    line = get_md_talk(talks[talk_id], i)\n",
    "    with open(f'talk_{i}.md', 'w') as F:\n",
    "        F.write(line)"
   ]
  },
  {
   "cell_type": "code",
   "execution_count": null,
   "id": "7c546c97",
   "metadata": {},
   "outputs": [],
   "source": []
  }
 ],
 "metadata": {
  "kernelspec": {
   "display_name": "Python 3 (ipykernel)",
   "language": "python",
   "name": "python3"
  },
  "language_info": {
   "codemirror_mode": {
    "name": "ipython",
    "version": 3
   },
   "file_extension": ".py",
   "mimetype": "text/x-python",
   "name": "python",
   "nbconvert_exporter": "python",
   "pygments_lexer": "ipython3",
   "version": "3.10.9"
  }
 },
 "nbformat": 4,
 "nbformat_minor": 5
}
